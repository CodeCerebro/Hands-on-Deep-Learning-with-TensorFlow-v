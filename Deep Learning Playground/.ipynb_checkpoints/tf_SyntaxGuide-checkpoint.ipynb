{
 "cells": [
  {
   "cell_type": "markdown",
   "metadata": {},
   "source": [
    "# Basic tensorflow Syntax Guide"
   ]
  },
  {
   "cell_type": "code",
   "execution_count": 4,
   "metadata": {},
   "outputs": [],
   "source": [
    "import tensorflow as tf"
   ]
  },
  {
   "cell_type": "markdown",
   "metadata": {},
   "source": [
    "# Variable and Placeholder"
   ]
  },
  {
   "cell_type": "code",
   "execution_count": 5,
   "metadata": {},
   "outputs": [],
   "source": [
    "x = tf.Variable(4)\n",
    "x = tf.assign(x,2)"
   ]
  },
  {
   "cell_type": "code",
   "execution_count": 6,
   "metadata": {},
   "outputs": [],
   "source": [
    "holder1 = tf.placeholder(tf.float32)\n",
    "holder_sum = holder1 + 2"
   ]
  },
  {
   "cell_type": "markdown",
   "metadata": {},
   "source": [
    "# Constant"
   ]
  },
  {
   "cell_type": "code",
   "execution_count": 7,
   "metadata": {},
   "outputs": [],
   "source": [
    "const1 = tf.constant(44)"
   ]
  },
  {
   "cell_type": "markdown",
   "metadata": {},
   "source": [
    "# Session"
   ]
  },
  {
   "cell_type": "code",
   "execution_count": 8,
   "metadata": {},
   "outputs": [
    {
     "name": "stdout",
     "output_type": "stream",
     "text": [
      "7.0\n",
      "44\n"
     ]
    }
   ],
   "source": [
    "init = tf.global_variables_initializer()\n",
    "with tf.Session() as sess:\n",
    "    sess.run(init)\n",
    "    print(sess.run(holder_sum, feed_dict = {holder1 : 5}))\n",
    "    print(sess.run(const1))"
   ]
  },
  {
   "cell_type": "markdown",
   "metadata": {},
   "source": [
    "# Gradients and Optimizer"
   ]
  },
  {
   "cell_type": "code",
   "execution_count": 17,
   "metadata": {},
   "outputs": [
    {
     "name": "stdout",
     "output_type": "stream",
     "text": [
      "Epoch 0 MSE= 569.6083\n",
      "Epoch 100 MSE= 32.40603\n",
      "Epoch 200 MSE= 22.796764\n",
      "Epoch 300 MSE= 22.303644\n",
      "Epoch 400 MSE= 22.13434\n",
      "Epoch 500 MSE= 22.04551\n",
      "Epoch 600 MSE= 21.99527\n",
      "Epoch 700 MSE= 21.965137\n",
      "Epoch 800 MSE= 21.946007\n",
      "Epoch 900 MSE= 21.933228\n",
      "[[ 2.2532761e+01]\n",
      " [-8.7994266e-01]\n",
      " [ 1.0067331e+00]\n",
      " [-2.5917033e-03]\n",
      " [ 7.0378047e-01]\n",
      " [-1.9755698e+00]\n",
      " [ 2.7174225e+00]\n",
      " [-4.6538799e-03]\n",
      " [-3.0462768e+00]\n",
      " [ 2.2517922e+00]\n",
      " [-1.6374751e+00]\n",
      " [-2.0413623e+00]\n",
      " [ 8.5780501e-01]\n",
      " [-3.7305303e+00]]\n"
     ]
    }
   ],
   "source": [
    "from sklearn.datasets import load_boston\n",
    "from sklearn.preprocessing import StandardScaler\n",
    "import numpy as np\n",
    "\n",
    "tf.reset_default_graph()\n",
    "\n",
    "# Load data and then Normalize the data\n",
    "boston_data = load_boston()\n",
    "m, n = boston_data.data.shape\n",
    "scaler = StandardScaler()\n",
    "scaled_boston_housing_data = scaler.fit_transform(boston_data.data)\n",
    "scaled_boston_housing_data_plus_bias = np.c_[np.ones((m,1)), scaled_boston_housing_data]\n",
    "\n",
    "# Create Nodes for holding the data\n",
    "X = tf.constant(scaled_boston_housing_data_plus_bias, dtype = tf.float32, name = \"X\")\n",
    "y = tf.constant(boston_data.target.reshape(-1,1), dtype = tf.float32, name = \"y\")\n",
    "w = tf.Variable(tf.random_uniform([n+1, 1], -1, 1), name = \"weights\")\n",
    "\n",
    "# Calculate the error\n",
    "y_pred = tf.matmul(X, w, name = \"predictions\")\n",
    "error = y_pred - y\n",
    "mse = tf.reduce_mean(tf.square(error, name = \"mse\"))\n",
    "\n",
    "optimizer = tf.train.GradientDescentOptimizer(learning_rate = 0.01)\n",
    "training_op = optimizer.minimize(mse)\n",
    "\n",
    "# Initializing the Variables of the computation graph\n",
    "init = tf.global_variables_initializer()\n",
    "\n",
    "\n",
    "# Running the computation graph\n",
    "with tf.Session() as sess:\n",
    "    sess.run(init)\n",
    "    for epoch in range(1000):\n",
    "        if(epoch % 100 == 0):\n",
    "            print(\"Epoch\", epoch, \"MSE=\", mse.eval())\n",
    "        sess.run(training_op)\n",
    "    best_weights = w.eval()\n",
    "    print(best_weights)"
   ]
  },
  {
   "cell_type": "markdown",
   "metadata": {},
   "source": [
    "# Managing Graphs"
   ]
  },
  {
   "cell_type": "code",
   "execution_count": 11,
   "metadata": {},
   "outputs": [
    {
     "data": {
      "text/plain": [
       "True"
      ]
     },
     "execution_count": 11,
     "metadata": {},
     "output_type": "execute_result"
    }
   ],
   "source": [
    "x1 = tf.Variable(4)\n",
    "x1.graph is tf.get_default_graph()"
   ]
  },
  {
   "cell_type": "code",
   "execution_count": 14,
   "metadata": {},
   "outputs": [
    {
     "data": {
      "text/plain": [
       "False"
      ]
     },
     "execution_count": 14,
     "metadata": {},
     "output_type": "execute_result"
    }
   ],
   "source": [
    "graph1 = tf.Graph()\n",
    "with graph1.as_default():\n",
    "    x2 = tf.Variable(411)\n",
    "    \n",
    "x2 is tf.get_default_graph()    "
   ]
  }
 ],
 "metadata": {
  "kernelspec": {
   "display_name": "Python 3",
   "language": "python",
   "name": "python3"
  },
  "language_info": {
   "codemirror_mode": {
    "name": "ipython",
    "version": 3
   },
   "file_extension": ".py",
   "mimetype": "text/x-python",
   "name": "python",
   "nbconvert_exporter": "python",
   "pygments_lexer": "ipython3",
   "version": "3.5.2"
  }
 },
 "nbformat": 4,
 "nbformat_minor": 2
}
