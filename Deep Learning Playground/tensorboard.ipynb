{
 "cells": [
  {
   "cell_type": "markdown",
   "metadata": {},
   "source": [
    "# Using tensorboard for Visualizing the graph"
   ]
  },
  {
   "cell_type": "code",
   "execution_count": 6,
   "metadata": {},
   "outputs": [
    {
     "name": "stdout",
     "output_type": "stream",
     "text": [
      "Epoch 0 MSE= 565.1634\n",
      "Epoch 100 MSE= 32.518936\n",
      "Epoch 200 MSE= 22.996681\n",
      "Epoch 300 MSE= 22.438234\n",
      "Epoch 400 MSE= 22.225662\n",
      "Epoch 500 MSE= 22.109295\n",
      "Epoch 600 MSE= 22.040947\n",
      "Epoch 700 MSE= 21.998514\n",
      "Epoch 800 MSE= 21.970793\n",
      "Epoch 900 MSE= 21.95185\n",
      "[[22.53276   ]\n",
      " [-0.8738069 ]\n",
      " [ 1.0027533 ]\n",
      " [-0.05389305]\n",
      " [ 0.70959884]\n",
      " [-1.9390731 ]\n",
      " [ 2.7321177 ]\n",
      " [-0.0357967 ]\n",
      " [-3.06338   ]\n",
      " [ 2.1529143 ]\n",
      " [-1.5400434 ]\n",
      " [-2.0239532 ]\n",
      " [ 0.85923594]\n",
      " [-3.7140393 ]]\n"
     ]
    }
   ],
   "source": [
    "import tensorflow as tf\n",
    "from sklearn.datasets import load_boston\n",
    "from sklearn.preprocessing import StandardScaler\n",
    "from datetime import datetime\n",
    "import numpy as np\n",
    "\n",
    "tf.reset_default_graph()\n",
    "\n",
    "n_epochs = 4000\n",
    "learning_rate = 0.01\n",
    "\n",
    "# Import the dataset\n",
    "boston_data = load_boston()\n",
    "m, n = boston_data.data.shape\n",
    "\n",
    "# Loading the dataset\n",
    "scaler = StandardScaler()\n",
    "scaled_boston_housing_data = scaler.fit_transform(boston_data.data)\n",
    "scaled_boston_housing_data_plus_bias = np.c_[np.ones((m,1)), scaled_boston_housing_data]\n",
    "\n",
    "# Creating the directory name\n",
    "now = datetime.utcnow().strftime(\"%Y%m%d%H%M%S\")\n",
    "root_dir = \"tf_logs/\"\n",
    "logdir = \"{}/run-{}\".format(root_dir, now)\n",
    "\n",
    "# Creating nodes of the graph to hold data\n",
    "X = tf.constant(scaled_boston_housing_data_plus_bias, dtype = tf.float32, name = \"X\")\n",
    "y = tf.constant(boston_data.target.reshape(-1,1), dtype = tf.float32, name = \"y\")\n",
    "w = tf.Variable(tf.random_uniform([n+1, 1], -1, 1), name = \"weights\")\n",
    "\n",
    "# Calculate the error\n",
    "y_pred = tf.matmul(X, w, name = \"predictions\")\n",
    "error = y_pred - y\n",
    "mse = tf.reduce_mean(tf.square(error, name = \"mse\"))\n",
    "\n",
    "optimizer = tf.train.GradientDescentOptimizer(learning_rate = 0.01)\n",
    "training_op = optimizer.minimize(mse)\n",
    "\n",
    "# Initializing the Variables of the computation graph\n",
    "init = tf.global_variables_initializer()\n",
    "\n",
    "# Information to create logs\n",
    "mse_summary = tf.summary.scalar('MSE', mse)\n",
    "file_writer = tf.summary.FileWriter(logdir, tf.get_default_graph())\n",
    "\n",
    "# Running the computation graph\n",
    "with tf.Session() as sess:\n",
    "    sess.run(init)\n",
    "    for epoch in range(1000):\n",
    "        if(epoch % 100 == 0):\n",
    "            summary_str = mse_summary.eval()\n",
    "            file_writer.add_summary(summary_str, epoch)\n",
    "            print(\"Epoch\", epoch, \"MSE=\", mse.eval())\n",
    "        sess.run(training_op)\n",
    "    best_weights = w.eval()\n",
    "    print(best_weights)"
   ]
  }
 ],
 "metadata": {
  "kernelspec": {
   "display_name": "Python 3",
   "language": "python",
   "name": "python3"
  },
  "language_info": {
   "codemirror_mode": {
    "name": "ipython",
    "version": 3
   },
   "file_extension": ".py",
   "mimetype": "text/x-python",
   "name": "python",
   "nbconvert_exporter": "python",
   "pygments_lexer": "ipython3",
   "version": "3.5.2"
  }
 },
 "nbformat": 4,
 "nbformat_minor": 2
}
